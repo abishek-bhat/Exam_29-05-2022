{
 "cells": [
  {
   "cell_type": "raw",
   "id": "383c4460",
   "metadata": {},
   "source": [
    "P(a)= probability of linking action movies=42/100\n",
    "P(c)=probability of liking comedy movies=54/100\n",
    "P(d)=probabiltity of liking drama movies=36/100\n",
    "P(h)=probability of linking horror movies=12/100\n",
    "P(A)=probability of either action or drama\n",
    "P(B)=probability of either comedy or horror"
   ]
  },
  {
   "cell_type": "code",
   "execution_count": 1,
   "id": "5fb0f6db",
   "metadata": {},
   "outputs": [
    {
     "name": "stdout",
     "output_type": "stream",
     "text": [
      "probability of either action or drama     : 0.78\n",
      "probability of either comedy or horror     : 0.66\n"
     ]
    }
   ],
   "source": [
    "Pa= 42/100\n",
    "Pc=54/100\n",
    "Pd=36/100\n",
    "Ph=12/100\n",
    "PA=Pa+Pd\n",
    "PB=Pc+Ph\n",
    "print(\"probability of either action or drama     :\",PA)\n",
    "print(\"probability of either comedy or horror     :\",PB)"
   ]
  },
  {
   "cell_type": "code",
   "execution_count": null,
   "id": "29784c03",
   "metadata": {},
   "outputs": [],
   "source": []
  },
  {
   "cell_type": "code",
   "execution_count": null,
   "id": "ec01a511",
   "metadata": {},
   "outputs": [],
   "source": []
  }
 ],
 "metadata": {
  "kernelspec": {
   "display_name": "Python 3 (ipykernel)",
   "language": "python",
   "name": "python3"
  },
  "language_info": {
   "codemirror_mode": {
    "name": "ipython",
    "version": 3
   },
   "file_extension": ".py",
   "mimetype": "text/x-python",
   "name": "python",
   "nbconvert_exporter": "python",
   "pygments_lexer": "ipython3",
   "version": "3.9.7"
  }
 },
 "nbformat": 4,
 "nbformat_minor": 5
}
