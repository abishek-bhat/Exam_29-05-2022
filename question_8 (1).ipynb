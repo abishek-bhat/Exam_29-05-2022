{
 "cells": [
  {
   "cell_type": "code",
   "execution_count": 1,
   "id": "820665e2",
   "metadata": {},
   "outputs": [],
   "source": [
    "import numpy as np\n",
    "import scipy.stats"
   ]
  },
  {
   "cell_type": "code",
   "execution_count": 2,
   "id": "0dd794fa",
   "metadata": {},
   "outputs": [],
   "source": [
    "mean = [44.5,42,46.5]"
   ]
  },
  {
   "cell_type": "code",
   "execution_count": 3,
   "id": "b39c0948",
   "metadata": {},
   "outputs": [],
   "source": [
    "std_dev = [5,5,8]"
   ]
  },
  {
   "cell_type": "code",
   "execution_count": 4,
   "id": "f2203f12",
   "metadata": {},
   "outputs": [],
   "source": [
    "def f_test(x, y):\n",
    "    x = np.array(x)\n",
    "    y = np.array(y)\n",
    "    f = np.var(x, ddof=1)/np.var(y, ddof=1)\n",
    "    dfn = x.size-1 \n",
    "    dfd = y.size-1 \n",
    "    p = 1-scipy.stats.f.cdf(f, dfn, dfd) \n",
    "    return f, p"
   ]
  },
  {
   "cell_type": "code",
   "execution_count": 5,
   "id": "4c8d8d33",
   "metadata": {},
   "outputs": [],
   "source": [
    "f,p = f_test(mean, std_dev)"
   ]
  },
  {
   "cell_type": "code",
   "execution_count": 6,
   "id": "2a061a3f",
   "metadata": {},
   "outputs": [
    {
     "name": "stdout",
     "output_type": "stream",
     "text": [
      "F-statistics: 1.6944444444444444\n"
     ]
    }
   ],
   "source": [
    "print('F-statistics:',f)"
   ]
  },
  {
   "cell_type": "code",
   "execution_count": null,
   "id": "604c5e0b",
   "metadata": {},
   "outputs": [],
   "source": []
  }
 ],
 "metadata": {
  "kernelspec": {
   "display_name": "Python 3 (ipykernel)",
   "language": "python",
   "name": "python3"
  },
  "language_info": {
   "codemirror_mode": {
    "name": "ipython",
    "version": 3
   },
   "file_extension": ".py",
   "mimetype": "text/x-python",
   "name": "python",
   "nbconvert_exporter": "python",
   "pygments_lexer": "ipython3",
   "version": "3.9.7"
  }
 },
 "nbformat": 4,
 "nbformat_minor": 5
}
