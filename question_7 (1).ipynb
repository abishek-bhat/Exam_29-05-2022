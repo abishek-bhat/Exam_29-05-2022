{
 "cells": [
  {
   "cell_type": "code",
   "execution_count": 1,
   "id": "0258f63f",
   "metadata": {},
   "outputs": [],
   "source": [
    "UC=[44,21,36,34,77,32,29,39,92,67,45,37]"
   ]
  },
  {
   "cell_type": "code",
   "execution_count": 2,
   "id": "9b3e0ee0",
   "metadata": {},
   "outputs": [],
   "source": [
    "MV=[47,81,41,79,38,20,33,83,41,40,69,36]"
   ]
  },
  {
   "cell_type": "code",
   "execution_count": 3,
   "id": "1ec40827",
   "metadata": {},
   "outputs": [],
   "source": [
    "import numpy as np"
   ]
  },
  {
   "cell_type": "code",
   "execution_count": 4,
   "id": "ed0d9c07",
   "metadata": {},
   "outputs": [],
   "source": [
    "x = np.array(UC)"
   ]
  },
  {
   "cell_type": "code",
   "execution_count": 5,
   "id": "3757f78d",
   "metadata": {},
   "outputs": [],
   "source": [
    "y = np.array(MV)"
   ]
  },
  {
   "cell_type": "code",
   "execution_count": 6,
   "id": "2fc66c6a",
   "metadata": {},
   "outputs": [],
   "source": [
    "f = np.var(x, ddof=1)/np.var(y, ddof=1)"
   ]
  },
  {
   "cell_type": "code",
   "execution_count": 7,
   "id": "53ea89f4",
   "metadata": {},
   "outputs": [
    {
     "name": "stdout",
     "output_type": "stream",
     "text": [
      "F-STATISTIC is  : 0.9921235138705414\n"
     ]
    }
   ],
   "source": [
    "print(\"F-STATISTIC is  :\",f)"
   ]
  },
  {
   "cell_type": "code",
   "execution_count": null,
   "id": "d9e96a99",
   "metadata": {},
   "outputs": [],
   "source": []
  }
 ],
 "metadata": {
  "kernelspec": {
   "display_name": "Python 3 (ipykernel)",
   "language": "python",
   "name": "python3"
  },
  "language_info": {
   "codemirror_mode": {
    "name": "ipython",
    "version": 3
   },
   "file_extension": ".py",
   "mimetype": "text/x-python",
   "name": "python",
   "nbconvert_exporter": "python",
   "pygments_lexer": "ipython3",
   "version": "3.9.7"
  }
 },
 "nbformat": 4,
 "nbformat_minor": 5
}
