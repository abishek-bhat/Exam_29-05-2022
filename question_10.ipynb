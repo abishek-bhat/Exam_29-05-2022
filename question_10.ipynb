{
 "cells": [
  {
   "cell_type": "code",
   "execution_count": 1,
   "id": "1162e8d3",
   "metadata": {},
   "outputs": [],
   "source": [
    "before = [82 for j in range(25)]"
   ]
  },
  {
   "cell_type": "code",
   "execution_count": 2,
   "id": "797badc3",
   "metadata": {},
   "outputs": [],
   "source": [
    "after = [95 for i in range(25)]"
   ]
  },
  {
   "cell_type": "code",
   "execution_count": 3,
   "id": "65ba09cc",
   "metadata": {},
   "outputs": [],
   "source": [
    "from scipy.stats import ttest_ind"
   ]
  },
  {
   "cell_type": "code",
   "execution_count": 4,
   "id": "f37d639a",
   "metadata": {},
   "outputs": [
    {
     "name": "stdout",
     "output_type": "stream",
     "text": [
      "Yes, protein supplier affect the diet\n"
     ]
    }
   ],
   "source": [
    "if ttest_ind(before,after)[-1] <= 0.05 :\n",
    "    print('Yes, protein supplier affect the diet')\n",
    "else:\n",
    "    print('No, protein supplier did not affect diet')"
   ]
  },
  {
   "cell_type": "code",
   "execution_count": null,
   "id": "8f440b60",
   "metadata": {},
   "outputs": [],
   "source": []
  }
 ],
 "metadata": {
  "kernelspec": {
   "display_name": "Python 3 (ipykernel)",
   "language": "python",
   "name": "python3"
  },
  "language_info": {
   "codemirror_mode": {
    "name": "ipython",
    "version": 3
   },
   "file_extension": ".py",
   "mimetype": "text/x-python",
   "name": "python",
   "nbconvert_exporter": "python",
   "pygments_lexer": "ipython3",
   "version": "3.9.7"
  }
 },
 "nbformat": 4,
 "nbformat_minor": 5
}
