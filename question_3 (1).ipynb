{
 "cells": [
  {
   "cell_type": "code",
   "execution_count": 9,
   "id": "efdb4285",
   "metadata": {},
   "outputs": [],
   "source": [
    "pa=1/2\n",
    "pb=1/2\n",
    "pa1=5/8\n",
    "pb2=7/11"
   ]
  },
  {
   "cell_type": "code",
   "execution_count": 11,
   "id": "e353a10f",
   "metadata": {},
   "outputs": [],
   "source": [
    "prob=(pb*pb2)/((pa*pa1)+(pb*pb2))"
   ]
  },
  {
   "cell_type": "code",
   "execution_count": 12,
   "id": "4c491fcf",
   "metadata": {},
   "outputs": [
    {
     "name": "stdout",
     "output_type": "stream",
     "text": [
      "The probability of black ball from bag 2 is    : 0.5045045045045046\n"
     ]
    }
   ],
   "source": [
    "print(\"The probability of black ball from bag 2 is    :\",pans)"
   ]
  },
  {
   "cell_type": "code",
   "execution_count": null,
   "id": "08235843",
   "metadata": {},
   "outputs": [],
   "source": []
  }
 ],
 "metadata": {
  "kernelspec": {
   "display_name": "Python 3 (ipykernel)",
   "language": "python",
   "name": "python3"
  },
  "language_info": {
   "codemirror_mode": {
    "name": "ipython",
    "version": 3
   },
   "file_extension": ".py",
   "mimetype": "text/x-python",
   "name": "python",
   "nbconvert_exporter": "python",
   "pygments_lexer": "ipython3",
   "version": "3.9.7"
  }
 },
 "nbformat": 4,
 "nbformat_minor": 5
}
