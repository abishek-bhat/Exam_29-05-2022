{
 "cells": [
  {
   "cell_type": "code",
   "execution_count": 4,
   "id": "e4388bc6",
   "metadata": {},
   "outputs": [],
   "source": [
    "lamda=450/60\n"
   ]
  },
  {
   "cell_type": "code",
   "execution_count": 5,
   "id": "5c3e6fad",
   "metadata": {},
   "outputs": [],
   "source": [
    "from scipy.stats import poisson"
   ]
  },
  {
   "cell_type": "code",
   "execution_count": 6,
   "id": "b5d63d88",
   "metadata": {},
   "outputs": [
    {
     "name": "stdout",
     "output_type": "stream",
     "text": [
      "The probability of 10 application  received in 1 min is: 0.08583037040867346\n"
     ]
    }
   ],
   "source": [
    "ans=poisson.pmf(k=10, mu=lamda)\n",
    "print(\"The probability of 10 application  received in 1 min is:\",ans)"
   ]
  },
  {
   "cell_type": "code",
   "execution_count": 8,
   "id": "c88e6273",
   "metadata": {},
   "outputs": [
    {
     "name": "stdout",
     "output_type": "stream",
     "text": [
      "The probability of atlest 17 application  received in 2 min is: 0.0011688649831234608\n"
     ]
    }
   ],
   "source": [
    "ans1=poisson.pmf(k=17, mu=lamda)\n",
    "print(\"The probability of atlest 17 application  received in 2 min is:\",ans1)"
   ]
  },
  {
   "cell_type": "code",
   "execution_count": null,
   "id": "f29896bb",
   "metadata": {},
   "outputs": [],
   "source": []
  }
 ],
 "metadata": {
  "kernelspec": {
   "display_name": "Python 3 (ipykernel)",
   "language": "python",
   "name": "python3"
  },
  "language_info": {
   "codemirror_mode": {
    "name": "ipython",
    "version": 3
   },
   "file_extension": ".py",
   "mimetype": "text/x-python",
   "name": "python",
   "nbconvert_exporter": "python",
   "pygments_lexer": "ipython3",
   "version": "3.9.7"
  }
 },
 "nbformat": 4,
 "nbformat_minor": 5
}
