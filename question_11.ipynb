{
 "cells": [
  {
   "cell_type": "code",
   "execution_count": 1,
   "id": "b02dd2f7",
   "metadata": {},
   "outputs": [
    {
     "name": "stdout",
     "output_type": "stream",
     "text": [
      "Ttest_1sampResult(statistic=0.0, pvalue=1.0)\n",
      "\n",
      "Different days of the week have the different frequency of customers\n"
     ]
    }
   ],
   "source": [
    "no_of_customers = [1419,1320,1526,1289,1620,2067,2055]\n",
    "avg = sum(no_of_customers)/len(no_of_customers)\n",
    "from scipy.stats import ttest_1samp\n",
    "test = ttest_1samp(no_of_customers,avg)\n",
    "print(test)\n",
    "print()\n",
    "if test[-1] <= 0.01 :\n",
    "    print('Different days of the week have the same frequency of customers')\n",
    "else:\n",
    "     print('Different days of the week have the different frequency of customers')"
   ]
  },
  {
   "cell_type": "code",
   "execution_count": null,
   "id": "454a634a",
   "metadata": {},
   "outputs": [],
   "source": []
  }
 ],
 "metadata": {
  "kernelspec": {
   "display_name": "Python 3 (ipykernel)",
   "language": "python",
   "name": "python3"
  },
  "language_info": {
   "codemirror_mode": {
    "name": "ipython",
    "version": 3
   },
   "file_extension": ".py",
   "mimetype": "text/x-python",
   "name": "python",
   "nbconvert_exporter": "python",
   "pygments_lexer": "ipython3",
   "version": "3.9.7"
  }
 },
 "nbformat": 4,
 "nbformat_minor": 5
}
