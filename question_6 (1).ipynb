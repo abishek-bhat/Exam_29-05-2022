{
 "cells": [
  {
   "cell_type": "code",
   "execution_count": 3,
   "id": "a0cdbbaf",
   "metadata": {},
   "outputs": [],
   "source": [
    "mean=350870"
   ]
  },
  {
   "cell_type": "code",
   "execution_count": 4,
   "id": "df0c4a24",
   "metadata": {},
   "outputs": [],
   "source": [
    "std=12405"
   ]
  },
  {
   "cell_type": "code",
   "execution_count": 5,
   "id": "a30714ba",
   "metadata": {},
   "outputs": [],
   "source": [
    "z=0.675"
   ]
  },
  {
   "cell_type": "code",
   "execution_count": 6,
   "id": "2cf66cf5",
   "metadata": {},
   "outputs": [],
   "source": [
    "x=(z*std)+mean\n"
   ]
  },
  {
   "cell_type": "code",
   "execution_count": 7,
   "id": "5c34a4a2",
   "metadata": {},
   "outputs": [
    {
     "name": "stdout",
     "output_type": "stream",
     "text": [
      "The value at 75th percentile is : 359243.375\n"
     ]
    }
   ],
   "source": [
    "print(\"The value at 75th percentile is :\",x)"
   ]
  },
  {
   "cell_type": "code",
   "execution_count": null,
   "id": "c337020d",
   "metadata": {},
   "outputs": [],
   "source": []
  }
 ],
 "metadata": {
  "kernelspec": {
   "display_name": "Python 3 (ipykernel)",
   "language": "python",
   "name": "python3"
  },
  "language_info": {
   "codemirror_mode": {
    "name": "ipython",
    "version": 3
   },
   "file_extension": ".py",
   "mimetype": "text/x-python",
   "name": "python",
   "nbconvert_exporter": "python",
   "pygments_lexer": "ipython3",
   "version": "3.9.7"
  }
 },
 "nbformat": 4,
 "nbformat_minor": 5
}
